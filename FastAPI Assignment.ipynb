{
  "metadata": {
    "kernelspec": {
      "name": "python",
      "display_name": "Python (Pyodide)",
      "language": "python"
    },
    "language_info": {
      "codemirror_mode": {
        "name": "python",
        "version": 3
      },
      "file_extension": ".py",
      "mimetype": "text/x-python",
      "name": "python",
      "nbconvert_exporter": "python",
      "pygments_lexer": "ipython3",
      "version": "3.8"
    }
  },
  "nbformat_minor": 5,
  "nbformat": 4,
  "cells": [
    {
      "id": "9e709895-74b9-41f2-b12b-8e5d87b7894b",
      "cell_type": "code",
      "source": "#FastAPI Assignment",
      "metadata": {
        "trusted": true
      },
      "outputs": [],
      "execution_count": null
    },
    {
      "id": "975bd487-e277-40d6-9884-c495e38a0ba7",
      "cell_type": "code",
      "source": "from fastapi import FastAPI, HTTPException\nfrom pydantic import BaseModel\nfrom typing import List\nfrom motor.motor_asyncio import AsyncIOMotorClient\n\napp = FastAPI()\n\n# MongoDB connection\nclient = AsyncIOMotorClient(\"mongodb://localhost:27017/\")\ndb = client[\"mydatabase\"]\nitems_collection = db[\"items\"]\nclock_in_records_collection = db[\"clock_in_records\"]\n\n# Pydantic models\nclass Item(BaseModel):\n    name: str\n    email: str\n    item_name: str\n    quantity: int\n    expiry_date: str\n    insert_date: str = None\n\nclass ClockInRecord(BaseModel):\n    email: str\n    location: str\n    insert_date_time: str = None\n\n# Items API\n@app.post(\"/items\")\nasync def create_item(item: Item):\n    item.insert_date = datetime.now().strftime(\"%Y-%m-%d\")\n    result = await items_collection.insert_one(item.dict())\n    return {\"id\": result.inserted_id}\n\n@app.get(\"/items/{id}\")\nasync def get_item(id: str):\n    result = await items_collection.find_one({\"_id\": ObjectId(id)})\n    if result:\n        return result\n    else:\n        raise HTTPException(status_code=404, detail=\"Item not found\")\n\n@app.get(\"/items/filter\")\nasync def filter_items(email: str = None, expiry_date: str = None, insert_date: str = None, quantity: int = None):\n    filters = {}\n    if email:\n        filters[\"email\"] = email\n    if expiry_date:\n        filters[\"expiry_date\"] = {\"$gte\": expiry_date}\n    if insert_date:\n        filters[\"insert_date\"] = {\"$gte\": insert_date}\n    if quantity:\n        filters[\"quantity\"] = {\"$gte\": quantity}\n    results = await items_collection.find(filters).to_list(100)\n    return results\n\n@app.delete(\"/items/{id}\")\nasync def delete_item(id: str):\n    result = await items_collection.delete_one({\"_id\": ObjectId(id)})\n    if result.deleted_count == 1:\n        return {\"message\": \"Item deleted\"}\n    else:\n        raise HTTPException(status_code=404, detail=\"Item not found\")\n\n@app.put(\"/items/{id}\")\nasync def update_item(id: str, item: Item):\n    result = await items_collection.update_one({\"_id\": ObjectId(id)}, {\"$set\": item.dict(exclude={\"insert_date\"})})\n    if result.modified_count == 1:\n        return {\"message\": \"Item updated\"}\n    else:\n        raise HTTPException(status_code=404, detail=\"Item not found\")\n\n@app.get(\"/items/aggregation\")\nasync def aggregate_items():\n    pipeline = [{\"$group\": {\"_id\": \"$email\", \"count\": {\"$sum\": 1}}}]\n    results = await items_collection.aggregate(pipeline).to_list(100)\n    return results\n\n# Clock-In Records API\n@app.post(\"/clock-in\")\nasync def create_clock_in_record(clock_in_record: ClockInRecord):\n    clock_in_record.insert_date_time = datetime.now().strftime(\"%Y-%m-%d %H:%M:%S\")\n    result = await clock_in_records_collection.insert_one(clock_in_record.dict())\n    return {\"id\": result.inserted_id}\n\n@app.get(\"/clock-in/{id}\")\nasync def get_clock_in_record(id: str):\n    result = await clock_in_records_collection.find_one({\"_id\": ObjectId(id)})\n    if result:\n        return result\n    else:\n        raise HTTPException(status_code=404, detail=\"Clock-in record not found\")\n\n@app.get(\"/clock-in/filter\")\nasync def filter_clock_in_records(email: str = None, location: str = None, insert_date_time: str = None):\n    filters = {}\n    if email:\n        filters[\"email\"] = email\n    if location:\n        filters[\"location\"] = location\n    if insert_date_time:\n        filters[\"insert_date_time\"] = {\"$gte\": insert_date_time}\n    results = await clock_in_records_collection.find(filters).to_list(100)\n    return results\n\n@app.delete(\"/clock-in/{id}\")\nasync def delete_clock_in_record(id: str):\n    result = await clock_in_records_collection.delete_one({\"_id\": ObjectId(id)})\n    if result.deleted_count == 1:\n        return {\"message\": \"Clock-in record deleted\"}\n    else:\n        raise HTTPException(status_code=404, detail=\"Clock-in record not found\n\n@app.put(\"/clock-in/{id}\")\nasync def update_clock_in_record(id: str, clock_in_record: ClockInRecord):\n    result = await clock_in_records_collection.update_one({\"_id\": ObjectId(id)}, {\"$set\": clock_in_record.dict(exclude={\"insert_date_time\"})})\n    if result.modified_count == 1:\n        return {\"message\": \"Clock-in record updated\"}\n    else:\n        raise HTTPException(status_code=404, detail=\"Clock-in record not found\")                           ",
      "metadata": {
        "trusted": true
      },
      "outputs": [],
      "execution_count": null
    }
  ]
}